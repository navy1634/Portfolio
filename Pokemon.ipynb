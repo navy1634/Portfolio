{
 "cells": [
  {
   "cell_type": "markdown",
   "metadata": {},
   "source": [
    "# モジュールの準備"
   ]
  },
  {
   "cell_type": "markdown",
   "metadata": {},
   "source": [
    "## 基本モジュール"
   ]
  },
  {
   "cell_type": "code",
   "execution_count": null,
   "metadata": {},
   "outputs": [],
   "source": [
    "from pprint import pprint\n",
    "from datetime import date\n",
    "import pandas as pd\n",
    "import re"
   ]
  },
  {
   "cell_type": "markdown",
   "metadata": {},
   "source": [
    "## スクレイピング関係"
   ]
  },
  {
   "cell_type": "code",
   "execution_count": null,
   "metadata": {},
   "outputs": [],
   "source": [
    "# スクレイピング関連\n",
    "from time import sleep\n",
    "import requests\n",
    "from selenium import webdriver\n",
    "from selenium.webdriver.common.by import By\n",
    "from selenium.webdriver.support import expected_conditions as EC\n",
    "from selenium.webdriver.support.ui import WebDriverWait\n",
    "from webdriver_manager.chrome import ChromeDriverManager"
   ]
  },
  {
   "cell_type": "markdown",
   "metadata": {},
   "source": [
    "---"
   ]
  },
  {
   "cell_type": "markdown",
   "metadata": {},
   "source": [
    "# ポケモンの情報"
   ]
  },
  {
   "cell_type": "code",
   "execution_count": null,
   "metadata": {},
   "outputs": [],
   "source": [
    "# 名前、別名、図鑑番号、高さ、重さ\n",
    "def get_pk_nomal_data(data):\n",
    "    del_list = list()\n",
    "    for d in data:\n",
    "        k = re.search(r'(ガラル|ヨロイ島|カンムリ|アローラ)No\\.\\w*', d)\n",
    "        if k:\n",
    "            del_list.append(d)\n",
    "\n",
    "    for d in del_list:\n",
    "        data.remove(d)\n",
    "\n",
    "    return [data[0], data[1], data[2].replace(\"全国\", \"\").replace(\"ぜんこく\", \"\").replace(\" \", \"\"), data[3].replace(\"高さ \", \"\"), data[5]]\n",
    "\n",
    "# タイプ\n",
    "def get_type(browser):\n",
    "    typea = browser.find_element(By.CLASS_NAME, \"type\")\n",
    "    typeb = typea.find_elements(By.TAG_NAME, \"img\")\n",
    "    type_list = list()\n",
    "    for t in typeb:\n",
    "        ty = t.get_attribute(\"alt\")\n",
    "        type_list.append(ty)\n",
    "    \n",
    "    if len(type_list) == 1:\n",
    "        type_list.append(\"-\")\n",
    "    return type_list\n",
    "\n",
    "def data_split(data):\n",
    "    return data.split(\"  \")[1].split(\"(\")[0]\n",
    "\n",
    "def del_friend(data):\n",
    "    for d in data:\n",
    "        if re.match(r'仲間呼びやすさ\\w*', d):\n",
    "            data.remove(d)\n",
    "    return data\n",
    "\n",
    "# タマゴグループ\n",
    "def get_egg(data):\n",
    "    egg_data = data[32].replace(\"タマゴグループ \", \"\").split(\" / \")\n",
    "    if len(egg_data) == 1:\n",
    "        egg_data.append(\"-\")\n",
    "    egg_data.append(data[28].split()[1].replace(\"ポケモン\", \"\").replace(\"の\", \"\").replace(\"通常\", \"一般\"))\n",
    "    return egg_data\n",
    "\n",
    "def char_split(data):\n",
    "    return data.split(\" \")[0].replace(\"*\", \"\")\n",
    "\n",
    "# 特性\n",
    "def get_char(data):\n",
    "    data = data[1:]\n",
    "    index = data.index(\"◆\")\n",
    "    data1 = data[:index]\n",
    "    data2 = data[index+1]\n",
    "\n",
    "    if len(data1) == 1:\n",
    "        data1.append(\"-\")\n",
    "    if data2 == \"なし\":\n",
    "        data2 = \"-\"\n",
    "    return data1 + [data2]\n",
    "\n",
    "# 世代\n",
    "def get_gene(num):\n",
    "    num = int(num.split(\".\")[1])\n",
    "    if num <= 151:\n",
    "        return 1\n",
    "    elif num <= 251:\n",
    "        return 2\n",
    "    elif num <= 386:\n",
    "        return 3\n",
    "    elif num <= 493:\n",
    "        return 4\n",
    "    elif num <= 649:\n",
    "        return 5\n",
    "    elif num <= 721:\n",
    "        return 6\n",
    "    elif num <= 809:\n",
    "        return 7\n",
    "    else:\n",
    "        return 8\n",
    "\n",
    "def get_folm(name):\n",
    "    if \"メガ\" in name:\n",
    "        return \"メガ進化\"\n",
    "    return name\n"
   ]
  },
  {
   "cell_type": "code",
   "execution_count": null,
   "metadata": {},
   "outputs": [],
   "source": [
    "\n",
    "def get_Pokemon(browser):\n",
    "    pk_data_all = list()\n",
    "    df_char_list = list()\n",
    "    # フォルムチェンジの確認\n",
    "    folm_list = dict()\n",
    "    WebDriverWait(browser, 20).until(EC.presence_of_element_located((By.CLASS_NAME, \"select_list\")))\n",
    "    pk_folm = browser.find_elements(By.CLASS_NAME, \"select_list\")\n",
    "    if len(pk_folm) > 1:\n",
    "        folm = pk_folm[1].find_elements(By.TAG_NAME, \"a\")\n",
    "        for f in folm:\n",
    "            folm_list[f.text] = f.get_attribute(\"href\")\n",
    "\n",
    "    # 名前・別名・タイプ\n",
    "    WebDriverWait(browser, 20).until(EC.presence_of_element_located((By.ID, \"base_anchor\")))\n",
    "    pk_data1 = browser.find_element(By.ID, \"base_anchor\")\n",
    "    pk_data1 = pk_data1.text.split(\"\\n\")\n",
    "    nomal_data = get_pk_nomal_data(pk_data1)\n",
    "    type_data = get_type(browser)\n",
    "\n",
    "    # 種族値・タマゴグループ・特性\n",
    "    WebDriverWait(browser, 20).until(EC.presence_of_element_located((By.ID, \"stats_anchor\")))\n",
    "    pk_data2 = browser.find_element(By.ID, \"stats_anchor\")\n",
    "    pk_data2 = pk_data2.text.split(\"\\n\")\n",
    "    pk_data2 = del_friend(pk_data2)\n",
    "\n",
    "    Race_value = list(map(data_split, pk_data2[1:8]))\n",
    "    Race_value[6] = Race_value[6].split(\" / \")[1]\n",
    "    Egg_type = get_egg(pk_data2)\n",
    "    char_list = list(map(char_split, pk_data2[33:39]))\n",
    "    char_list = get_char(char_list)\n",
    "\n",
    "    df_char = list(map(lambda x: x.replace(\"*\", \"\").split(\" \"), pk_data2[33:39]))\n",
    "    df_char_list.append(df_char[1])\n",
    "    df_char_list.append(df_char[3])\n",
    "\n",
    "    sleep(1)\n",
    "    pk_data_all.extend(nomal_data)\n",
    "    pk_data_all.extend(type_data)\n",
    "    pk_data_all.extend(Race_value)\n",
    "    pk_data_all.extend(Egg_type)\n",
    "    pk_data_all.extend(char_list)\n",
    "    pk_data_all.append(get_gene(nomal_data[2]))\n",
    "\n",
    "    return pk_data_all, df_char_list, folm_list\n"
   ]
  },
  {
   "cell_type": "markdown",
   "metadata": {},
   "source": [
    "---"
   ]
  },
  {
   "cell_type": "code",
   "execution_count": null,
   "metadata": {},
   "outputs": [],
   "source": [
    "options = webdriver.ChromeOptions()\n",
    "# Chrome を立ち上げて確認したい場合は次の行をコメント化\n",
    "# options.add_argument('--headless')\n",
    "\n",
    "columns = [\"名前\", \"別名\", \"図鑑番号\", \"高さ\", \"重さ\", \"タイプ1\", \"タイプ2\",  \"H\", \"A\", \"B\", \"C\", \"D\", \"S\", \"合計値\", \"タマゴ1\", \"タマゴ2\", \"分類\", \"特性1\", \"特性2\", \"夢特性\", \"世代\", \"フォルム\"]\n",
    "Pokemon_Picture_book = list()\n",
    "df_char_list = list()\n",
    "\n",
    "# ブラウザの立ち上げ\n",
    "browser = webdriver.Chrome(ChromeDriverManager().install(), options=options)\n",
    "\n",
    "i = 5\n",
    "print(i+1, \"匹目\")\n",
    "sleep(1)\n",
    "url = f\"https://yakkun.com/sm/zukan/n{i+1}\"\n",
    "browser.get(url)\n",
    "sleep(1)"
   ]
  },
  {
   "cell_type": "code",
   "execution_count": null,
   "metadata": {},
   "outputs": [],
   "source": [
    "pokemon_data = get_Pokemon(browser)\n",
    "pk_data_all = pokemon_data[0]\n",
    "df_char_list.extend(pokemon_data[1])\n",
    "folm_list = pokemon_data[2]\n",
    "\n",
    "if folm_list == {}:\n",
    "    pk_data_all.append(\"-\")\n",
    "else:\n",
    "    pk_data_all.append(\"通常\")\n",
    "\n",
    "Pokemon_Picture_book.append(pk_data_all)    \n",
    "\n",
    "for f_name, f_url in folm_list.items():\n",
    "    sleep(1)\n",
    "    browser.get(f_url)\n",
    "    sleep(1)\n",
    "    pokemon_data = get_Pokemon(browser)\n",
    "    pk_data_all = pokemon_data[0]\n",
    "    pk_data_all.append(get_folm(f_name))\n",
    "    Pokemon_Picture_book.append(pk_data_all)    \n",
    "    df_char_list.extend(pokemon_data[1])\n"
   ]
  },
  {
   "cell_type": "code",
   "execution_count": null,
   "metadata": {},
   "outputs": [],
   "source": [
    "df_pokemon = pd.DataFrame(Pokemon_Picture_book, columns=columns)\n",
    "df_pokemon = df_pokemon.set_index(\"図鑑番号\")\n",
    "df_pokemon = df_pokemon[[\"名前\", \"別名\", \"世代\", \"フォルム\", \"タイプ1\", \"タイプ2\", \"特性1\", \"特性2\", \"夢特性\", \"H\", \"A\", \"B\", \"C\", \"D\", \"S\", \"合計値\", \"分類\", \"高さ\", \"重さ\", \"タマゴ1\", \"タマゴ2\"]]\n"
   ]
  },
  {
   "cell_type": "code",
   "execution_count": null,
   "metadata": {},
   "outputs": [],
   "source": [
    "# df_pokemon.to_csv(\"pokemon_picturebook.csv\", encoding=\"cp932\")\n",
    "display(df_pokemon)"
   ]
  },
  {
   "cell_type": "markdown",
   "metadata": {},
   "source": [
    "---"
   ]
  },
  {
   "cell_type": "markdown",
   "metadata": {},
   "source": [
    "# 特性一覧"
   ]
  },
  {
   "cell_type": "code",
   "execution_count": null,
   "metadata": {},
   "outputs": [],
   "source": [
    "df_char_list_ = pd.DataFrame(df_char_list)\n",
    "df_char_list_ = df_char_list_.rename(columns={0: \"特性\", 1: \"効果\"})\n",
    "df_char_list_ = df_char_list_[(df_char_list_[\"特性\"]!=\"◆\")&(df_char_list_[\"特性\"]!=\"なし\")].sort_values(\"特性\", ascending=True)\n",
    "df_char_all = df_char_list_[[\"特性\", \"効果\"]][~df_char_list_[[\"特性\", \"効果\"]].duplicated()].reset_index(drop=True)\n",
    "display(df_char_all)"
   ]
  },
  {
   "cell_type": "code",
   "execution_count": null,
   "metadata": {},
   "outputs": [],
   "source": []
  },
  {
   "cell_type": "code",
   "execution_count": null,
   "metadata": {},
   "outputs": [],
   "source": [
    "browser.quit()"
   ]
  },
  {
   "cell_type": "code",
   "execution_count": null,
   "metadata": {},
   "outputs": [],
   "source": []
  }
 ],
 "metadata": {
  "interpreter": {
   "hash": "ee9b162f4dd916c8ef6f1d0b4961372406fcf2a62217642fb7331e696870da6d"
  },
  "kernelspec": {
   "display_name": "Python 3.9.10 ('py_scrapi')",
   "language": "python",
   "name": "python3"
  },
  "language_info": {
   "codemirror_mode": {
    "name": "ipython",
    "version": 3
   },
   "file_extension": ".py",
   "mimetype": "text/x-python",
   "name": "python",
   "nbconvert_exporter": "python",
   "pygments_lexer": "ipython3",
   "version": "3.9.10"
  },
  "orig_nbformat": 4
 },
 "nbformat": 4,
 "nbformat_minor": 2
}
